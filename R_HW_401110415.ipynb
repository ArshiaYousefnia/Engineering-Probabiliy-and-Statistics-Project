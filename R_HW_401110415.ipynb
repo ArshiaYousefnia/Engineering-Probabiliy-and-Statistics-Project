{
 "cells": [
  {
   "cell_type": "markdown",
   "metadata": {
    "id": "lr1E-V9u68pV"
   },
   "source": [
    "<div style=\"direction:rtl;line-height:300%;\">\n",
    "\t<font face=\"XB Zar\" size=5>\n",
    "\t\t<div align=center>\n",
    "\t\t\t<font color=#3BEBBC>\n",
    "دانشگاه صنعتی شریف - دانشکده مهندسی کامپیوتر\n",
    "            </font>\n",
    "\t\t\t<p></p>\n",
    "\t\t\t<font color=ECC19C>\n",
    "آمار و احتمال مهندسی- دکتر نجفی\n",
    "            </font>\n",
    "\t\t\t<br />\n",
    "\t\t\t<br />\n",
    "پاییز  1402\n",
    "\t\t</div>\n",
    "\t\t<hr/>\n",
    "\t\t<div align=center>\n",
    "\t\t    <font color=#ECC19C size=6>\n",
    "\t\t\t    <br />\n",
    "تمرین عملی\n",
    "                <br/>\n",
    "          Arshia Yousefnia  \t<br/>\n",
    "\t\t\t401110415<br/></font>\n",
    "\t\t\tاعضای تمرین: پرهام رضایی- طاها اکبری- شایان شعبانی- ایمان محمدی- رضا حیدری- رامتین مسلمی\n",
    "\t\t\t<br/><br/>\n",
    "موعد تحویل:\n",
    "                <br/><br/>\n",
    "                <font color=#ECC19C>\n",
    "                لطفا در فایل ارسالی تمام بلوک‌های کد اجرا شده و شامل نمودار‌ها و خروجی‌های لازم باشند.\n",
    "     </font>\n",
    "                <br/>\n",
    "        </style>\n",
    "\t</font>\n",
    "</div>"
   ]
  },
  {
   "cell_type": "markdown",
   "metadata": {
    "id": "llFLaSFT68pW"
   },
   "source": [
    "<div dir = \"rtl\" style=\"direction:rtl;line-height:250%;\">\n",
    "\t<font face=\"XB Zar\" size=5>\n",
    "\t\t<font color=#3BEBBC size=6>\n",
    "             سوال اول - فتح کلیمانجارو\n",
    "        </font>\n",
    "        <hr/>\n",
    "        <div dir = \"rtl\" style=\"direction:rtl;line-height:200%;\">\n",
    "\t<font face=\"XB Zar\" size=5>\n",
    "    شایان که یک کوهنورد ماهر است قصد دارد از کوه کلیمانجارو بالا برود. از آنجا که شایان اولین نفری است که امسال این قله را می‌زند، قصد دارد در مسیر پرچم‌هایی قرار دهد تا کوهنوردان بعدی مسیر را گم نکنند. اگر پای کوه را ارتفاع ۰ و قله را در ارتفاع ۱در نظر بگیریم، شایان این ارتفاع را به\n",
    "     n = ۱۰۰۰۰۰\n",
    "     قسمت مساوی تقسیم می‌کند. سپس شروع به بالا رفتن از کوه می‌کند. هر موقع که به انتهای یک قسمت می‌رسد به احتمال\n",
    "     p = ۰/۲\n",
    "     و مستقل از تصمیمات قبلی یک پرچم در این مکان قرار می‌دهد.\n",
    "ما نیاز داریم که توزیع فاصله بین پرچم‌های متوالی را بدانیم. از آنجا که تعداد پرچم ها نسبتاً زیاد است و قدرت تحلیل ما محدود، نیاز داریم که شما حرکت شایان را شبیه سازی کنید و سپس توزیع فاصله‌های پرچم‌های متوالی را روی نموداری ترسیم کنید.\n",
    "\n",
    "</div>"
   ]
  },
  {
   "cell_type": "markdown",
   "metadata": {
    "id": "kVQWs_i468pX"
   },
   "source": [
    "<div dir = \"rtl\" style=\"direction:rtl;line-height:200%;\">\n",
    "\t<font face=\"XB Zar\" color=#ECC19C size=5>\n",
    "    الف)"
   ]
  },
  {
   "cell_type": "markdown",
   "metadata": {
    "id": "1fVMLE8N68pX"
   },
   "source": [
    "<div dir = \"rtl\" style=\"direction:rtl;line-height:250%;\">\n",
    "\t<font face=\"XB Zar\" size=5>\n",
    "       جایگاه پرچم‌ها را با توجه به توزیعی که از آن پیروی می‌کنند شبیه سازی کنید.\n",
    "\n",
    "</div>"
   ]
  },
  {
   "cell_type": "code",
   "execution_count": 1,
   "metadata": {
    "id": "Gj7Ocxso68pX",
    "vscode": {
     "languageId": "r"
    }
   },
   "outputs": [],
   "source": [
    "#probability of putting a flag in each step\n",
    "p <- 0.2\n",
    "#number of steps\n",
    "n <- 100000\n",
    "#generate a list of 0 and 1s corresponding to state of flag in each step\n",
    "flags_status <- rbinom(n, 1, p)\n"
   ]
  },
  {
   "cell_type": "markdown",
   "metadata": {
    "id": "fH299eTL68pY"
   },
   "source": [
    "<div dir = \"rtl\" style=\"direction:rtl;line-height:250%;\">\n",
    "\t<font face=\"XB Zar\" size=5>\n",
    "فاصله جفت پرچم‌های متوالی را به‌دست آورید و در آرایه‌ای ذخیره کنید.\n"
   ]
  },
  {
   "cell_type": "code",
   "execution_count": 2,
   "metadata": {
    "id": "QCazS3JZ68pZ",
    "vscode": {
     "languageId": "r"
    }
   },
   "outputs": [],
   "source": [
    "distances <- c()\n",
    "flags_count <- 0\n",
    "last_flag_index <- 0\n",
    "for (step in 1:n) {\n",
    "  if (flags_status[step] == 1) {\n",
    "    flags_count <- flags_count + 1\n",
    "    if (flags_count > 1) {\n",
    "      distances <- append(distances, (step - last_flag_index) / (n - 1))\n",
    "    }\n",
    "    last_flag_index <- step\n",
    "  }\n",
    "}"
   ]
  },
  {
   "cell_type": "markdown",
   "metadata": {
    "id": "XxX4F-Hc68pZ"
   },
   "source": [
    "<div dir = \"rtl\" style=\"direction:rtl;line-height:250%;\">\n",
    "\t<font face=\"XB Zar\" size=5>\n",
    "هیستوگرام فواصل را با توابع پایه R ترسیم کنید.\n"
   ]
  },
  {
   "cell_type": "code",
   "execution_count": 3,
   "metadata": {
    "colab": {
     "base_uri": "https://localhost:8080/",
     "height": 437
    },
    "id": "rwp13UsD68pZ",
    "outputId": "acad496c-5652-4888-e063-005ac4d203d2",
    "vscode": {
     "languageId": "r"
    }
   },
   "outputs": [
    {
     "data": {
      "image/png": "[encoded data removed]",
      "text/plain": [
       "Plot with title “Distribution of distance between successive flags”"
      ]
     },
     "metadata": {
      "image/png": {
       "height": 420,
       "width": 420
      }
     },
     "output_type": "display_data"
    }
   ],
   "source": [
    "hist(distances,\n",
    "main = \"Distribution of distance between successive flags\",\n",
    "xlab = \"distance between successive flags\",\n",
    "breaks = 40\n",
    ")"
   ]
  },
  {
   "cell_type": "markdown",
   "metadata": {
    "id": "UGw3DDdh68pa"
   },
   "source": [
    "<div dir = \"rtl\" style=\"direction:rtl;line-height:250%;\">\n",
    "\t<font face=\"XB Zar\" size=5>\n",
    "    هیستوگرام فواصل را با استفاده از ggplot رسم کنید.\n"
   ]
  },
  {
   "cell_type": "code",
   "execution_count": 4,
   "metadata": {
    "colab": {
     "base_uri": "https://localhost:8080/",
     "height": 437
    },
    "id": "po2eEZAB68pa",
    "outputId": "8f7ec430-b43c-4de3-d127-6b0014ac6ecf",
    "vscode": {
     "languageId": "r"
    }
   },
   "outputs": [
    {
     "data": {
      "image/png": "[encoded data removed]",
      "text/plain": [
       "plot without title"
      ]
     },
     "metadata": {
      "image/png": {
       "height": 420,
       "width": 420
      }
     },
     "output_type": "display_data"
    }
   ],
   "source": [
    "library(ggplot2)\n",
    "\n",
    "data <- data.frame(distances)\n",
    "ggplot(data, aes(x <- distances)) + geom_histogram(bins = 100)\n"
   ]
  },
  {
   "cell_type": "markdown",
   "metadata": {
    "id": "wKtPEZxE68pa"
   },
   "source": [
    "<div dir = \"rtl\" style=\"direction:rtl;line-height:250%;\">\n",
    "\t<font face=\"XB Zar\" size=5>\n",
    "    هیستوگرام لگاریتمی فواصل را رسم کنید."
   ]
  },
  {
   "cell_type": "code",
   "execution_count": 5,
   "metadata": {
    "colab": {
     "base_uri": "https://localhost:8080/",
     "height": 437
    },
    "id": "W5ij-ZG468pa",
    "outputId": "5421f706-cae6-47ff-b97a-5deefaa19a8c",
    "vscode": {
     "languageId": "r"
    }
   },
   "outputs": [
    {
     "data": {
      "image/png": "[encoded data removed]",
      "text/plain": [
       "plot without title"
      ]
     },
     "metadata": {
      "image/png": {
       "height": 420,
       "width": 420
      }
     },
     "output_type": "display_data"
    }
   ],
   "source": [
    "data_log <- data.frame(log(distances))\n",
    "ggplot(data_log, aes(x <- log(distances))) + geom_histogram(bins = 100)\n"
   ]
  },
  {
   "cell_type": "markdown",
   "metadata": {
    "id": "v_kCGRCB68pb"
   },
   "source": [
    "<div dir = \"rtl\" style=\"direction:rtl;line-height:250%;\">\n",
    "\t<font face=\"XB Zar\" size=5>\n",
    "    نمودار رسم شده به چه توزیعی شباهت دارد؟ علت پیروی از این توضیع را شرح دهید."
   ]
  },
  {
   "cell_type": "markdown",
   "metadata": {
    "id": "DflZzgYJ68pb"
   },
   "source": [
    "از دید تئوری، اگر فاصلۀ بین دو پرچم متوالی را یک متغیر تصادفی بگیریم، چون خود پرچم‌ها از توزیع برنولی میایند، فاصله بین پرچم‌ها توزیع هندسی خواهد داشت.همچنین میدانیم در حد گام‌های بسیار کوچک و تعداد گام‌های به سمت صفر، به توزیع هندسی نزدیک می‌شویم. این موارد تئوری با خروجی هیستوگرام‌ها هم تطابق دارند و شکل توزیع هیستوگرام‌ها بسیار شبیه توزیع نمایی و به خصوص نمودار لگاریتمی آن هم که خطی شد معلوم می کند که توزیع بسیار شبیه نمایی است."
   ]
  },
  {
   "cell_type": "markdown",
   "metadata": {
    "id": "PLq650Fz68pc"
   },
   "source": [
    "<div dir = \"rtl\" style=\"direction:rtl;line-height:200%;\">\n",
    "\t<font face=\"XB Zar\" color=#ECC19C size=5>\n",
    "\tب)"
   ]
  },
  {
   "cell_type": "markdown",
   "metadata": {
    "id": "txq1Nj1t68pc"
   },
   "source": [
    "<div dir = \"rtl\" style=\"direction:rtl;line-height:250%;\">\n",
    "\t<font face=\"XB Zar\" size=5>\n",
    "حال که شایان در تلاش نخست توانست به راحتی قله این کوه را فتح کند، حرکتش بسیار سریع شده است. او این بار ۵۰۰۰۰ پرچم را با توزیع uniform در ارتفاع‌ها (بازه ۰ تا ۱) قرار می‌دهد. مکان پرچم‌ها را بر حسب ارتفاع مرتب کرده و سپس مشابه قبل فاصله پرچم های متوالی را به‌دست آورده و هیستوگرام این فواصل را ترسیم کنید.\n"
   ]
  },
  {
   "cell_type": "markdown",
   "metadata": {
    "id": "14nXOfPC68pc"
   },
   "source": [
    "<div dir = \"rtl\" style=\"direction:rtl;line-height:250%;\">\n",
    "\t<font face=\"XB Zar\" size=5>\n",
    "فاصله بین جفت پرچم های متوالی را به‌دست آورید."
   ]
  },
  {
   "cell_type": "code",
   "execution_count": 6,
   "metadata": {
    "id": "tt7k47Rv68pd",
    "vscode": {
     "languageId": "r"
    }
   },
   "outputs": [],
   "source": [
    "n <- 50000\n",
    "flags_position <- sort(runif(n, 0, 1))\n",
    "\n",
    "distances <- c()\n",
    "\n",
    "for (index in 2:n) {\n",
    "  distances <- append(distances, flags_position[index] - flags_position[index - 1])\n",
    "}"
   ]
  },
  {
   "cell_type": "code",
   "execution_count": 7,
   "metadata": {
    "colab": {
     "base_uri": "https://localhost:8080/",
     "height": 437
    },
    "id": "a4NP9T4r68pd",
    "outputId": "065bf457-0b05-4d0b-c427-abb0ae406768",
    "vscode": {
     "languageId": "r"
    }
   },
   "outputs": [
    {
     "data": {
      "image/png": "[encoded data removed]",
      "text/plain": [
       "Plot with title “Distribution of distance between successive flags”"
      ]
     },
     "metadata": {
      "image/png": {
       "height": 420,
       "width": 420
      }
     },
     "output_type": "display_data"
    }
   ],
   "source": [
    "hist(distances,\n",
    "main = \"Distribution of distance between successive flags\",\n",
    "xlab = \"distance between successive flags\",\n",
    "breaks = 40\n",
    ")"
   ]
  },
  {
   "cell_type": "markdown",
   "metadata": {
    "id": "PuR263eh68pd"
   },
   "source": [
    "<div dir = \"rtl\" style=\"direction:rtl;line-height:250%;\">\n",
    "\t<font face=\"XB Zar\" size=5>\n",
    "ﻫﯿﺴﺘﻮﮔﺮام ﻓﻮاﺻﻞ را ﺑﺎ ﺗﻮاﺑﻊ ﭘﺎﯾﻪ R ﺗﺮﺳﯿﻢ ﮐﻨﯿﺪ."
   ]
  },
  {
   "cell_type": "markdown",
   "metadata": {
    "id": "rRHr8eUA68pe"
   },
   "source": [
    "<div dir = \"rtl\" style=\"direction:rtl;line-height:250%;\">\n",
    "\t<font face=\"XB Zar\" size=5>\n",
    "با استفاده از ggplot فواصل را ترسیم کنید.\n",
    "\n"
   ]
  },
  {
   "cell_type": "code",
   "execution_count": 8,
   "metadata": {
    "colab": {
     "base_uri": "https://localhost:8080/",
     "height": 437
    },
    "id": "mDMzBEZe68pe",
    "outputId": "72ec2c5b-037f-4101-ef25-aa98592ad75f",
    "vscode": {
     "languageId": "r"
    }
   },
   "outputs": [
    {
     "data": {
      "image/png": "[encoded data removed]",
      "text/plain": [
       "plot without title"
      ]
     },
     "metadata": {
      "image/png": {
       "height": 420,
       "width": 420
      }
     },
     "output_type": "display_data"
    }
   ],
   "source": [
    "library(ggplot2)\n",
    "\n",
    "data <- data.frame(distances)\n",
    "ggplot(data, aes(x <- distances)) + geom_histogram(bins = 100)"
   ]
  },
  {
   "cell_type": "markdown",
   "metadata": {
    "id": "P3WZjzdZ68pe"
   },
   "source": [
    "<div dir = \"rtl\" style=\"direction:rtl;line-height:250%;\">\n",
    "\t<font face=\"XB Zar\" size=5>\n",
    " ﻧﻤﻮدار رﺳﻢ ﺷﺪه ﺑﻪ ﭼﻪ ﺗﻮزﯾﻌﯽ ﺷﺒﺎﻫﺖ دارد؟ آﯾﺎ ﺑﻪ ﻟﺤﺎظ ﺷﮑﻞ ﺗﺎﺑﻊ ﺗﻮزﯾﻊ ﻣﺸﺎﺑﻪ ﺑﺎ ﺣﺎﻟﺖ اﻟﻒ ﺷﺪ؟ آﯾﺎ ﻣﯽ ﺗﻮاﻧﯿﺪ ﺗﻮﺟﯿﻬﯽ ﺑﺮای اﯾﻦ\n",
    "اﺗﻔﺎق ﺑﯿﺎﺑﯿﺪ؟"
   ]
  },
  {
   "cell_type": "markdown",
   "metadata": {
    "id": "YLLCgfey68pe"
   },
   "source": [
    "> مانند حالت قبل شد به دلیل ذات بی حافظه بودن این کار ما که انتخاب \\رچم ها به ضورت یکنواخت و مستقل از قبلی ها در کل بازه بود. و در کل شبیه توزیع نمایی است."
   ]
  },
  {
   "cell_type": "markdown",
   "metadata": {
    "id": "3fwQIL6qW_Tt"
   },
   "source": [
    "<div dir = \"rtl\" style=\"direction:rtl;line-height:250%;\">\n",
    "\t<font face=\"XB Zar\" size=5>\n",
    "\t\t<font color=#3BEBBC size=6>\n",
    "            سوال دوم - ﺗﻤﺎﺷﺎی آﻧﻼﯾﻦ وﯾﺪﺋﻮ\n",
    "        </font>\n",
    "        <hr/>\n",
    "        <div dir = \"rtl\" style=\"direction:rtl;line-height:200%;\">\n",
    "\t<font face=\"XB Zar\" size=5>\n",
    "   تصور کنید می‌خواهیم یک ویدیو را به صورت آنلاین تماشا کنیم. تماشای بدون وقفه ویدئو مستلزم دانلود با نرخ ثابت ۱ مگابایت بر ثانیه است، در غیر این صورت ویدئو دچار وقفه شده و شروع به بافر می‌کند. به عبارت دیگر، بافر هنگامی رخ می‌دهد که تمامی بخش‌های دانلود شده را تماشا کرده باشیم و بخش بعدی ویدیو هنوز دانلود نشده باشد، در این صورت باید کمی صبر کنیم تا بخش‌های بعدی دانلود شوند تا بتوانیم دوباره به تماشای ویدیو ادامه دهیم. یک «تجربه خوشایند» در تماشای یک ویدئوی آنلاین را به این صورت تعریف می‌کنیم که در حین تماشا و در هیچ زمانی از ویدئو وقفه‌ای رخ ندهد. همچنین، زمان را در این سوال به صورت گسسته و با واحد ۱ ثانیه در نظر بگیرید.\n",
    "   <br>\n",
    "فرض کنید که سرعت دانلود ما در هر ثانیه یک عدد تصادفی با توزیع یونیفورم بین ۰/۶ و ۱/۴ مگابایت بر ثانیه و مستقل از ثانیه‌های پیشین باشد. در این صورت‌ احتمال یک تجربه خوشایند در تماشای یک ویدئو با طول مشخص چقدر است؟"
   ]
  },
  {
   "cell_type": "markdown",
   "metadata": {
    "id": "xl70fgU768pf"
   },
   "source": [
    "<div dir = \"rtl\" style=\"direction:rtl;line-height:250%;\">\n",
    "\t<font face=\"XB Zar\" size=5>\n",
    "    <font color=#ECC19C>\n",
    "الف)\n",
    "    </font>\n",
    "    تابعی بنویسید تا با دریافت طول ویدئو به عنوان ورودی، احتمال تماشای بدون وقفه ویدئو را تخمین بزند. به منظور تخمین احتمال، می‌توانید تماشای ویدئو را به تعداد ۱۰۰۰۰ بار شبیه‌سازی کرده و سپس نسبت تعداد تجربیات خوشایند به کل آزمایشات را به جای احتمال در نظر بگیرید.\n"
   ]
  },
  {
   "cell_type": "code",
   "execution_count": 9,
   "metadata": {
    "id": "SdI6aNHC68pf",
    "vscode": {
     "languageId": "r"
    }
   },
   "outputs": [],
   "source": [
    "# Do not change this cell\n",
    "# playback rate\n",
    "rate <- 1\n",
    "# lower bound of download rate\n",
    "lbound <- 0.6\n",
    "# upper bound of download rate\n",
    "ubound <- 1.4\n",
    "# number of simulations\n",
    "n_sim = 10000"
   ]
  },
  {
   "cell_type": "code",
   "execution_count": 10,
   "metadata": {
    "id": "tys-IaOaXQ69",
    "vscode": {
     "languageId": "r"
    }
   },
   "outputs": [],
   "source": [
    "# implement the buffer rate function to simulate the ratio of clips which buffer\n",
    "bufferrate <- function(length) {\n",
    "    success_count <- 0\n",
    "    \n",
    "    for (test_index in 1:n_sim) {\n",
    "        stack <- 0\n",
    "        this_amount <- 0\n",
    "        for (step in 1:length) {\n",
    "            this_amount <- runif(1, lbound, ubound)\n",
    "            stack <- stack + this_amount\n",
    "            if (stack < 1) {\n",
    "                success_count <- success_count - 1\n",
    "                break\n",
    "            }\n",
    "            stack <- stack - 1\n",
    "        }\n",
    "        success_count <- success_count + 1\n",
    "    }\n",
    "    \n",
    "    return (success_count / n_sim)\n",
    "}"
   ]
  },
  {
   "cell_type": "markdown",
   "metadata": {
    "id": "zomLMumFqxpx"
   },
   "source": [
    "<div dir = \"rtl\" style=\"direction:rtl;line-height:250%;\">\n",
    "\t<font face=\"XB Zar\" size=5>\n",
    "    <font color=#ECC19C>\n",
    "ب)\n",
    "    </font>\n",
    "   احتمال یک تجربه خوشایند را به صورت تابعی از طول ویدئو رسم کنید. طول ویدئو را بین ۲ تا ۲۰۰ ثانیه با گام‌های به طول ۱ ثانیه در نظر بگیرید. برای احتمال حداقل ۱۰۰۰۰ شبیه‌سازی انجام دهید تا نمودار همواری مشاهده کنید.\n"
   ]
  },
  {
   "cell_type": "code",
   "execution_count": 11,
   "metadata": {
    "id": "-BMUKDuz68pg",
    "vscode": {
     "languageId": "r"
    }
   },
   "outputs": [
    {
     "data": {
      "image/png": "[encoded data removed]",
      "text/plain": [
       "plot without title"
      ]
     },
     "metadata": {
      "image/png": {
       "height": 420,
       "width": 420
      }
     },
     "output_type": "display_data"
    }
   ],
   "source": [
    "# store differnet video lengths in a variable\n",
    "lengths <- seq(2, 200, 1)\n",
    "values <- lapply(lengths, bufferrate)\n",
    "\n",
    "# plot porbability against video length\n",
    "plot(lengths, values)"
   ]
  },
  {
   "cell_type": "markdown",
   "metadata": {
    "id": "Chyeq9-K68pg"
   },
   "source": [
    "<div dir = \"rtl\" style=\"direction:rtl;line-height:250%;\">\n",
    "\t<font face=\"XB Zar\" size=5>\n",
    "        <div dir = \"rtl\" style=\"direction:rtl;line-height:200%;\">\n",
    "\t<font face=\"XB Zar\" size=5>\n",
    "برای کاهش احتمال توقف‌های ناخوشایند در حین تماشای ویدئو می‌توانیم فرآیند بافرینگ را جلوتر آغاز کرده و پس از چند ثانیه شروع به تماشای کلیپ کنیم - کاری که تقریباً همه انجام می‌دهند. به این کار headstart گفته می‌شود. در این روش ابتدا کمی صبر می‌کنیم تا بخشی از ویدیو دانلود شود و سپس به تماشای آن می‌پردازیم. تابعی که در قسمت قبل نوشتید را با افزودن یک متغیر ورودی جدید (تعداد ثانیه‌های headstart) به گونه‌ای تغییر دهید تا امکان پشتیبانی از این استراتژی را داشته باشد. دقت کنید که در طول زمان headstart نرخ دانلود هر ثانیه مشابه قبل از یک توزیع یونیفرم پیروی می‌کند."
   ]
  },
  {
   "cell_type": "markdown",
   "metadata": {
    "id": "2WHEJ0V068ph"
   },
   "source": [
    "<div dir = \"rtl\" style=\"direction:rtl;line-height:250%;\">\n",
    "\t<font face=\"XB Zar\" size=5>\n",
    "         <font color=#ECC19C>\n",
    "ج)\n",
    "    </font>\n",
    "در این قسمت\n",
    "فرض کنید که سرعت دانلود ما در هر ثانیه یک عدد تصادفی با توزیع یونیفورم بین ۰/۲ و ۱/۵ مگابایت بر ثانیه و مستقل از ثانیه‌های پیشین باشد.\n",
    " طول ویدئو را همواره ۱۰۰ ثانیه در نظر بگیرید.  نمودار احتمال تماشای بدون وقفه را نسبت به مقادیر مختلف برای زمان headstart رسم کنید. می‌توانید مقادیر زمان headstart را بین ۰ تا ۴۰ ثانیه با گام‌های ۱ ثانیه پوشش دهید."
   ]
  },
  {
   "cell_type": "code",
   "execution_count": 12,
   "metadata": {
    "id": "u8pjoF_268ph",
    "vscode": {
     "languageId": "r"
    }
   },
   "outputs": [],
   "source": [
    "# Do not change this cell\n",
    "# playback rate\n",
    "rate <- 1\n",
    "# lower bound of download rate\n",
    "lbound <- 0.2\n",
    "# upper bound of download rate\n",
    "ubound <- 1.5\n",
    "# number of simulations\n",
    "n_sim = 1000"
   ]
  },
  {
   "cell_type": "code",
   "execution_count": 13,
   "metadata": {
    "id": "g7ZIk8Mu68ph",
    "vscode": {
     "languageId": "r"
    }
   },
   "outputs": [],
   "source": [
    "# modify the bufferrate function and include the headstart\n",
    "bufferrate <- function(length, headstart) {\n",
    "    success_count <- 0\n",
    "    \n",
    "    for (test_index in 1:n_sim) {\n",
    "        stack <- sum(runif(headstart, lbound, ubound))\n",
    "        this_amount <- 0\n",
    "        for (step in 1:length) {\n",
    "            this_amount <- runif(1, lbound, ubound)\n",
    "            stack <- stack + this_amount\n",
    "            if (stack < 1) {\n",
    "                success_count <- success_count - 1\n",
    "                break\n",
    "            }\n",
    "            stack <- stack - 1\n",
    "        }\n",
    "        success_count <- success_count + 1\n",
    "    }\n",
    "    \n",
    "    return (success_count / n_sim)\n",
    "}"
   ]
  },
  {
   "cell_type": "code",
   "execution_count": 14,
   "metadata": {
    "id": "U2Gx8dY6ZwgY",
    "vscode": {
     "languageId": "r"
    }
   },
   "outputs": [
    {
     "data": {
      "image/png": "[encoded data removed]",
      "text/plain": [
       "plot without title"
      ]
     },
     "metadata": {
      "image/png": {
       "height": 420,
       "width": 420
      }
     },
     "output_type": "display_data"
    }
   ],
   "source": [
    "# define headstarts\n",
    "video_length <- 100\n",
    "\n",
    "headstarts <- seq(0, 40, 1)\n",
    "values <- c()\n",
    "\n",
    "# calculate the probability against headstart values\n",
    "for (index in headstarts) {\n",
    "    values <- append (values, bufferrate(video_length, index))\n",
    "}\n",
    "\n",
    "# plot the probabilities\n",
    "plot(headstarts, values)"
   ]
  },
  {
   "cell_type": "markdown",
   "metadata": {
    "id": "z6jW7TBK68ph"
   },
   "source": [
    "<div dir = \"rtl\" style=\"direction:rtl;line-height:250%;\">\n",
    "\t<font face=\"XB Zar\" size=5>\n",
    "   <font color=#ECC19C>\n",
    "د)\n",
    "    </font>\n",
    "با توجه به نتیجه‌ی کدهای فوق در مورد اثرات طول ویدیو و headstart بر احتمال تماشای بدون وقفه توضیح دهید.\n"
   ]
  },
  {
   "cell_type": "markdown",
   "metadata": {
    "id": "F9-di5qe68ph"
   },
   "source": [
    "> همانطور که با شهود هم سازگار است هر چه مدت\n",
    "> \n",
    "> headstart\n",
    "> \n",
    "> بیش تر باشد مقدار بیشتری ویدیو دانلود و ذخیره شده و احتمال تجربه بد در طول تماشا کم می شود.\n",
    ">\n",
    "> از طرف دیگر هر چه طول ویدیو بیشتر شود احتمال تماشای سالم کم می شود یا به عبارت دیگر احتمال خالی شدن ذخیره ما در یک لحظه در طول ویدیو بیشتر می شود.\n",
    ">\n",
    "> این یعنی طول ویدیو رابطه عکس با احتمال موفقیت دارد و میزان زمانی که اجازه دانلود قبل از شروع را میدهیم رابطه مستقیم دارد.\n",
    "> "
   ]
  },
  {
   "cell_type": "markdown",
   "metadata": {
    "id": "FaJAsjVkXKxD"
   },
   "source": [
    "<div dir = \"rtl\" style=\"direction:rtl;line-height:250%;\">\n",
    "\t<font face=\"XB Zar\" size=5>\n",
    "\t\t<font color=#3BEBBC size=6>\n",
    "            سوال سوم - تفت (تف؟!) دادن سیب‌زمینی!\n",
    "        </font>\n",
    "        <hr/>\n",
    "        <div dir = \"rtl\" style=\"direction:rtl;line-height:200%;\">\n",
    "\t<font face=\"XB Zar\" size=5>\n",
    "به شما n قطعه خرد شده از سیب زمینی داده شده که برای سادگی فرض کنید به شکل مکعب‌های متنظم و هم‌شکل هستند. می‌خواهید تمام سیب زمینی‌ها را به طور کامل و صحیح سرخ کنید: یعنی تمامی وجوه هر قطعه سیب‌زمینی کاملاً سرخ شوند، و در عین حال هیچ وجهی از هیچ قطعه‌ای از آنان نیز نسوخته باشد. برای اینکار یک عدد ماهیتابه در اختیار دارید که می‌توانید تمامی سیب زمینی‌هایتان را در آن قرار داده و روی اجاق گاز حرارت بدهید.\n",
    "<br>\n",
    "برای سادگی فرض کنید که وقتی وجه خاصی از یک سیب‌زمینی به سمت کف ماهیتابه است، سایر ۵ وجه آن هیچ حرارتی نمی‌بینند. همچنین سیب‌زمینی‌ها روی یکدیگر قرار نمی‌گیرند، و روی پخت یکدیگر اثری نمی‌گذارند. همچنین می‌دانیم که حداقل زمان لازم برای پخت کامل یک وجه از هر سیب‌زمینی ۳۰ ثانیه، و حداکثر زمان قابل تحمل برای هر وجه پیش از سوختن ۹۰ ثانیه است.\n",
    "</div>"
   ]
  },
  {
   "cell_type": "markdown",
   "metadata": {
    "id": "V2-c0I8n68pi"
   },
   "source": [
    "<div dir = \"rtl\" style=\"direction:rtl;line-height:250%;\">\n",
    "\t<font face=\"XB Zar\" size=5>\n",
    "\t <font color=#ECC19C>\n",
    "الف)\n",
    "    </font>\n",
    " ابتدا به سادگی استدلال کنید که با هیچ استراتژی از پختن سیب‌زمینی‌ها، یک پخت کامل و صحیح نمی‌تواند کمتر از ۱۸۰ ثانیه و بیشتر از ۵۴۰ ثانیه به طول بیانجامد.\n",
    "</div>"
   ]
  },
  {
   "cell_type": "markdown",
   "metadata": {
    "id": "FsFsdOxm68pi"
   },
   "source": [
    "> چون تکه های مختلف از هم مستقل هستند میتوانیم فقط درباره یک تکه صحبت کنیم. در هر زمان یک وجه از سیب زمینی دارد حرارت میبیند. حداقل حرارتی که هر تکه سیب زمینی باید ببیند ۳۰ ثانیه است این یعنی در بهترین حالت ۳۰ * ۶ یعنی ۱۸۰ ثانیه باید طی شود تا سیب زمینی آماده شود. یعنی اگر کمتر از این زمان گذشته باشد به طور قطع هنوز وجهی وجود دارد که کمتر از ۳۰ ثانیه حرارت دیده و آماده نیست \\یعنی زمان کل باید دست کم ۱۸۰ ثانیه باشد.\n",
    "> \n",
    "> از آن طرف چون آستانه سوختن ۹۰ ثانیه است اگر زمان گذشته بیش از ۶ * ۹۰ یعنی ۵۴۰ ثانیه باشد حتما وجهی بوده که بیش از ۹۰ ثانیه حرارت دیده و حداقل یک وجه سوخته داریم به طور قطع. این یعنی قطعا زمان کل نباید بیش از ۵۴۰ باشد."
   ]
  },
  {
   "cell_type": "markdown",
   "metadata": {
    "id": "PSTL1t7b68pi"
   },
   "source": [
    "<div dir = \"rtl\" style=\"direction:rtl;line-height:250%;\">\n",
    "\t<font face=\"XB Zar\" size=5>\n",
    "        <div dir = \"rtl\" style=\"direction:rtl;line-height:200%;\">\n",
    "\t<font face=\"XB Zar\" size=5>\n",
    "حال فرض کنید که زمان پخت را میانگین دو مقدار فوق، یعنی ۳۶۰ ثانیه در نظر گرفته‌ایم. سیب‌زمینی‌ها را به صورت تصادفی به کف ماهیتابه ریخته و لذا برای هر کدام یک وجه تصادفی به سمت ماهیتابه قرار گرفته است. بالطبع در صورتی که در کل زمان پخت به همین شکل رهایشان کنیم، یکی از وجوهشان خواهد سوخت و مابقی خام می‌مانند. لذا در طی پخت آنان را f بار در بازه‌های مساوی تفت می‌دهیم. پس از هر بار تفت دادن، یکی از وجوه تصادفی هر سیب‌زمینی با احتمال‌های یکسان، مستقل از سایر سیب‌زمینی‌ها و همچنین وجوه قبلی، به سمت کف ماهیتابه قرار می‌گیرد. ‌می‌تواند همان وجه قبلی نیز باشد. همچنین، برای سادگی فرض کنید که خود زمان لازم برای تفت دادن ناچیز است."
   ]
  },
  {
   "cell_type": "markdown",
   "metadata": {
    "id": "LfqUmpoo68pj"
   },
   "source": [
    "<div dir = \"rtl\" style=\"direction:rtl;line-height:250%;\">\n",
    "\t<font face=\"XB Zar\" size=5>\n",
    "         <font color=#ECC19C>\n",
    "ب)\n",
    "    </font>\n",
    "    فرض کنید n = ۲۰. در این صورت، احتمال یک پخت کامل و موفق را بر حسب افزایش f (تعداد تفت دادن‌ها) تخمین زده و رسم کنید. می‌توانید تعداد تفت دادن‌ها را بین ۸۰ تا ۴۰۰ بار (با گام‌های ۵) انتخاب کنید، اما انتخاب نهایی با خودتان است. همچنین، هر شبیه‌سازی را آنقدر تکرار کنید که نمودار هموار و زیبایی حاصل شود.\n",
    "</div>"
   ]
  },
  {
   "cell_type": "code",
   "execution_count": 15,
   "metadata": {
    "id": "BEbQ8VNM68pj",
    "vscode": {
     "languageId": "r"
    }
   },
   "outputs": [],
   "source": [
    "# Do not change this cell in your final notebook\n",
    "t1 <- 30\n",
    "t2 <- 90\n",
    "cookTime <- 360\n",
    "n_pieces <- 20\n",
    "sides <- 6"
   ]
  },
  {
   "cell_type": "code",
   "execution_count": 16,
   "metadata": {
    "id": "PlT5JK6t68pj",
    "vscode": {
     "languageId": "r"
    }
   },
   "outputs": [],
   "source": [
    "# check if potatoes are coocked properly\n",
    "# cookTime is the matrix of amount of time that each side of each potatoe is cooked\n",
    "# underCookTime and burnTime are the times between which the amount of cooking should be in order to be proper\n",
    "# return T if all the cooktimes are between the two values burnTime and cookTime otherwise return F\n",
    "cookTest <- function(underCookTime, burnTime, cookTime, sides) {\n",
    "    for (j in 1:length(cookTime)) {\n",
    "        if ((cookTime[j] < underCookTime) | (cookTime[j] > burnTime)) {\n",
    "            return(FALSE)\n",
    "        }\n",
    "    }\n",
    "    return(TRUE)\n",
    "}\n"
   ]
  },
  {
   "cell_type": "code",
   "execution_count": 17,
   "metadata": {
    "id": "hBcP79lE68pj",
    "vscode": {
     "languageId": "r"
    }
   },
   "outputs": [],
   "source": [
    "# simulate one shuffling and return the new times\n",
    "# cookTime is the cooked times before the current time simulation\n",
    "# n_pieces is the number of pieces used in simulation\n",
    "# sectionTime is the amount of time each shuffling lasts\n",
    "# sides is the number of sides each potatoe has\n",
    "sectionSimulate <- function(cookTime, n_pieces, sectionTime, sides) {\n",
    "    Sides <- sample(1:sides, n_pieces, replace=T)\n",
    "\n",
    "    for (index in 1:n_pieces) {\n",
    "        cookTime[(index - 1) * sides + Sides[index]] <- cookTime[(index - 1) * sides + Sides[index]] + sectionTime\n",
    "    }\n",
    "    return(cookTime)\n",
    "}"
   ]
  },
  {
   "cell_type": "code",
   "execution_count": 18,
   "metadata": {
    "id": "kdHsxMn368pj",
    "vscode": {
     "languageId": "r"
    }
   },
   "outputs": [],
   "source": [
    "# timeLength is the total time of simulation\n",
    "# n_shuffle is the number of times potatoes are changed sides\n",
    "# implement a complete simulation here and return if this was a successful cooking using the cookTest function\n",
    "cookSimulation <- function(underCookTime,burnTime,n_pieces,timeLength,sides,n_shuffle){\n",
    "    cookTime <- integer(n_pieces * sides)\n",
    "    for (i in 1:n_pieces * sides) {\n",
    "        cookTime[i] <- 0\n",
    "    }\n",
    "\n",
    "    sectionTime <- timeLength / n_shuffle\n",
    "    for (i in 1:n_shuffle) {\n",
    "        cookTime <- sectionSimulate(cookTime, n_pieces, sectionTime, sides)\n",
    "    }\n",
    "\n",
    "    return(cookTest(underCookTime, burnTime, cookTime, sides))\n",
    "}"
   ]
  },
  {
   "cell_type": "code",
   "execution_count": 19,
   "metadata": {
    "id": "AkWyl6m868pk",
    "vscode": {
     "languageId": "r"
    }
   },
   "outputs": [],
   "source": [
    "# do the simulation for values of shuffling number between 80 and 400 with a stride of 5\n",
    "repitition = 1000\n",
    "n_shuffles_list = seq(80, 400, 5)\n",
    "success_array = integer(length(n_shuffles_list))\n",
    "\n",
    "i <- 0\n",
    "for (n_shuffle in n_shuffles_list) {\n",
    "    i <- i + 1\n",
    "    count <- 0\n",
    "    for (j in 1:repitition) {\n",
    "        if (cookSimulation(t1, t2, n_pieces, cookTime, sides, n_shuffle)) {\n",
    "            count <- count + 1\n",
    "        }\n",
    "    }\n",
    "    success_array[i] <- (count / repitition)\n",
    "}"
   ]
  },
  {
   "cell_type": "code",
   "execution_count": 20,
   "metadata": {
    "id": "MKlpHBBE68pk",
    "vscode": {
     "languageId": "r"
    }
   },
   "outputs": [
    {
     "data": {
      "image/png": "[encoded data removed]",
      "text/plain": [
       "plot without title"
      ]
     },
     "metadata": {
      "image/png": {
       "height": 420,
       "width": 420
      }
     },
     "output_type": "display_data"
    }
   ],
   "source": [
    "# plot the probability for differnt values of shuffle\n",
    "#increasing experiment repitition didn't rsult in better plots and this is the best which can be achieved.\n",
    "plot(n_shuffles_list, success_array)"
   ]
  },
  {
   "cell_type": "markdown",
   "metadata": {
    "id": "N7abGgnS68pk"
   },
   "source": [
    "<div dir = \"rtl\" style=\"direction:rtl;line-height:250%;\">\n",
    "\t<font face=\"XB Zar\" size=5>\n",
    " <font color=#ECC19C>\n",
    " <b>\n",
    "    توجه:\n",
    "    </b>\n",
    "    </font>\n",
    "    مابقی قسمت‌های این سوال نمره ندارند و تصحیح نمی‌شوند، و صرفاً برای دانشجویان کنجکاوی است که قصد دارند بیشتر به این مسئله به ظاهر ساده! فکر کنند."
   ]
  },
  {
   "cell_type": "markdown",
   "metadata": {
    "id": "puWnOYX668pk"
   },
   "source": [
    "<div dir = \"rtl\" style=\"direction:rtl;line-height:250%;\">\n",
    "\t<font face=\"XB Zar\" size=5>\n",
    "<font color=#ECC19C>\n",
    "ج)\n",
    "    </font>\n",
    "فرض کنید که احتمال پخت کامل و سالم را با P\n",
    "نمایش دهیم که بالطبع تابعی از\n",
    "n و f\n",
    "است.\n",
    "با استدلال و به صورت کاملا نظری نشان دهید؛\n",
    "<div dir=\"ltr\">\n",
    "\n",
    "$$P = [g(f)]^n$$\n",
    "</div>\n",
    "\n",
    "که در این رابطه تابع\n",
    "g\n",
    "فقط به f و سایر پارامترهای\n",
    "مسئله (غیر از n)\n",
    "مرتبط است."
   ]
  },
  {
   "cell_type": "markdown",
   "metadata": {
    "id": "mdYPxhEj68pk"
   },
   "source": [
    "<div dir = \"rtl\" style=\"direction:rtl;line-height:250%;\">\n",
    "\t<font face=\"XB Zar\" size=5>\n",
    "        <div dir = \"rtl\" style=\"direction:rtl;line-height:200%;\">\n",
    "\t<font face=\"XB Zar\" size=5>\n",
    "<font color=#ECC19C>\n",
    "د)\n",
    "    </font>\n",
    "قصد داریم تابع\n",
    "g(f)\n",
    "را تخمین بزنیم. شبیه‌سازی بخش ب)\n",
    "\tرا با n=1\n",
    "\tتکرار کنید، و مقادیر حاصله برای\n",
    "<div dir=\"ltr\">\n",
    "\n",
    "$$1-P$$\n",
    "</div>\n",
    "را به صورت نیم‌لگاریتمی رسم کنید. شبیه به چه تابعی است؟\n",
    "<br>\n",
    "با استفاده از محاسبه شیب خط در حالت نیم‌لگاریتمی فوق، تابع\n",
    "g(f)\n",
    "را تقریب بزنید. در این صورت یک تقریب برای کل\n",
    "P\n",
    "(حتی وقتی\n",
    "n≠1)\n",
    "نیز داریم."
   ]
  },
  {
   "cell_type": "markdown",
   "metadata": {
    "id": "JtBv6fm-68pk"
   },
   "source": [
    "<div dir = \"rtl\" style=\"direction:rtl;line-height:250%;\">\n",
    "\t<font face=\"XB Zar\" size=5>\n",
    "        <div dir = \"rtl\" style=\"direction:rtl;line-height:200%;\">\n",
    "\t<font face=\"XB Zar\" size=5>"
   ]
  },
  {
   "cell_type": "markdown",
   "metadata": {
    "id": "VwZqQ3P368pl"
   },
   "source": [
    "<div dir = \"rtl\" style=\"direction:rtl;line-height:250%;\">\n",
    "\t<font face=\"XB Zar\" size=5>\n",
    "    <font color=#ECC19C>\n",
    "ه)\n",
    "    </font>\n",
    "    با فرض برقراری تقریب قسمت د)، به صورت نظری نشان دهید که با افزایش تعداد قطعات سیب‌زمینی\n",
    "   n،\n",
    "   تعداد تفت‌های لازم f\n",
    "   به منظور رسیدن به یک احتمال مشخص (مثلا ۹۹ درصد)\n",
    "   برای پخت کامل و صحیح به صورت لگاریتمی افزایش پیدا می‌کند: یعنی\n",
    "   </div>\n",
    "<div dir = \"ltr\">\n",
    "\n",
    "$$f_{necessary} = O (\\log n)$$"
   ]
  },
  {
   "cell_type": "markdown",
   "metadata": {
    "id": "wnM8gbUI68pl"
   },
   "source": [
    "<div dir = \"rtl\" style=\"direction:rtl;line-height:250%;\">\n",
    "\t<font face=\"XB Zar\" size=5>\n",
    "<font color=#ECC19C>\n",
    "و)\n",
    "    </font>\n",
    "     اگر وقت و حوصله داشتید و هنوز هم کنجکاو بودید، نمودار قسمت ب) را برای مقادیر مختلف\n",
    "    n\n",
    "    تکرار کنید.\n",
    "    اما به جای رسم احتمال پخت کامل و صحیح بر حسب f،\n",
    "    آن را بر حسب مقادیر نرمالیزه شده\n",
    "    \n",
    "$$\\dfrac{f}{\\log n}$$\n",
    "<div dir = \"rtl\" style=\"direction:rtl;line-height:200%;\">\n",
    "\t<font face=\"XB Zar\" size=5>\n",
    "    رسم کنید."
   ]
  },
  {
   "cell_type": "markdown",
   "metadata": {
    "id": "Yz9zLV7L68pl"
   },
   "source": [
    "<div dir = \"rtl\" style=\"direction:rtl;line-height:250%;\">\n",
    "\t<font face=\"XB Zar\" size=5>\n",
    " با افزایش n\n",
    " چه پدیده عجیبی را مشاهده می‌کنید؟\n",
    " (به این رخداد در آمار و احتمال ابعاد بالا، اصطلاحا\n",
    " <<\n",
    " <b>\n",
    " تغییر فاز\n",
    " </b>\n",
    " >>\n",
    " یا\n",
    " Phase Transition\n",
    " نیز گفته می‌شود.)"
   ]
  }
 ],
 "metadata": {
  "colab": {
   "provenance": []
  },
  "kernelspec": {
   "display_name": "R",
   "language": "R",
   "name": "ir"
  },
  "language_info": {
   "codemirror_mode": "r",
   "file_extension": ".r",
   "mimetype": "text/x-r-source",
   "name": "R",
   "pygments_lexer": "r",
   "version": "4.3.2"
  }
 },
 "nbformat": 4,
 "nbformat_minor": 4
}
